{
  "nbformat": 4,
  "nbformat_minor": 0,
  "metadata": {
    "colab": {
      "provenance": [],
      "authorship_tag": "ABX9TyPQ1A2/p3SJGJnu+l/cwTok",
      "include_colab_link": true
    },
    "kernelspec": {
      "name": "python3",
      "display_name": "Python 3"
    },
    "language_info": {
      "name": "python"
    }
  },
  "cells": [
    {
      "cell_type": "markdown",
      "metadata": {
        "id": "view-in-github",
        "colab_type": "text"
      },
      "source": [
        "<a href=\"https://colab.research.google.com/github/Shuzaifa12/OOPS-Basic-/blob/main/OOPS.ipynb\" target=\"_parent\"><img src=\"https://colab.research.google.com/assets/colab-badge.svg\" alt=\"Open In Colab\"/></a>"
      ]
    },
    {
      "cell_type": "markdown",
      "source": [
        "**Object Oriented Programming Practice**"
      ],
      "metadata": {
        "id": "GhiTfM_N1_bz"
      }
    },
    {
      "cell_type": "code",
      "execution_count": 3,
      "metadata": {
        "colab": {
          "base_uri": "https://localhost:8080/"
        },
        "id": "qPbSijqv10b2",
        "outputId": "5d7c9eef-eaf3-410f-d4ec-7255809893e9"
      },
      "outputs": [
        {
          "output_type": "stream",
          "name": "stdout",
          "text": [
            "Book Name :  The Legend\n",
            "Book Author :  Pakistan Army\n"
          ]
        }
      ],
      "source": [
        "# Defining Class & creating Library System: 1st Method (Default Value in the constructor).\n",
        "#This is a class name Library.\n",
        "class Library():\n",
        "  # This is a constructor __init__\n",
        "  # The first parameter of the constructor is self(anything), which represents class.\n",
        "  def __init__(self):\n",
        "    # Declaration of the variable and assigning value to it:\n",
        "    self.book_name = \"The Legend\"\n",
        "    self.book_author = \"Pakistan Army\"\n",
        "\n",
        "# Outside the class, defining an object for class because class itself is nothing but a blueprint or the path to reach out to the destination.\n",
        "# Calling the class just like call the function\n",
        "my_library = Library()\n",
        "\n",
        "# Displaying the Object in which class stored\n",
        "print(\"Book Name : \", my_library.book_name)\n",
        "print(\"Book Author : \", my_library.book_author)"
      ]
    },
    {
      "cell_type": "code",
      "source": [
        "# Defining Class & creating Library System: 2nd Method (Using Parameters and Arguments).\n",
        "#This is a class name Library.\n",
        "class Library():\n",
        "  # This is a constructor __init__\n",
        "  # The first parameter of the constructor is self(anything), which represents class, other parameters are following of it.\n",
        "  def __init__(self, name, author):\n",
        "    # Declaration of the class variable and assigning class parameter to it:\n",
        "    self.book_name = name\n",
        "    self.book_author = author\n",
        "\n",
        "# Outside the class, defining an object for class because class itself is nothing but a blueprint or the path to reach out to the destination.\n",
        "# Calling the class just like call the function and defining its positional arguments similarly used in the function\n",
        "my_library = Library(\"The Legend\", \"Pak Army\")\n",
        "\n",
        "# Displaying the Object in which class stored\n",
        "print(\"Book Name : \", my_library.book_name)\n",
        "print(\"Book Author : \", my_library.book_author)"
      ],
      "metadata": {
        "colab": {
          "base_uri": "https://localhost:8080/"
        },
        "id": "8z1qGkx14r-7",
        "outputId": "cdb3640a-b43f-412d-fb01-293cbc24f8e8"
      },
      "execution_count": 5,
      "outputs": [
        {
          "output_type": "stream",
          "name": "stdout",
          "text": [
            "Book Name :  The Legend\n",
            "Book Author :  Pak Army\n"
          ]
        }
      ]
    },
    {
      "cell_type": "code",
      "source": [
        "# Defining Class & creating complete Library System: Real-World 2nd Method (Using Parameters and Arguments).\n",
        "#This is a class name Library.\n",
        "class Library():\n",
        "  # This is a constructor __init__\n",
        "  # The first parameter of the constructor is self(anything), which represents class, other parameters are following of it.\n",
        "  def __init__(self, name, location):\n",
        "    # Declaration of the class variable and assigning class parameter to it:\n",
        "    self.books_collection = []\n",
        "    self.lib_name = name\n",
        "    self.lib_location = location\n",
        "\n",
        "  # Now we have to add some functionality for the book (for e.g., add/remove book from library)\n",
        "  # To add new book we use append function\n",
        "  def add_book(self, new_book):\n",
        "    return self.books_collection.append(new_book)\n",
        "\n",
        "  # To remove the existing book we use remove function\n",
        "  def remove_book(self, existing_book):\n",
        "    return self.books_collection.remove(existing_book)\n",
        "\n",
        "  # Creating a method to get the list of the books:\n",
        "  def get_book(self):\n",
        "    return self.books_collection\n",
        "\n",
        "\n",
        "# As Library stores books in it, so creating another class named with Lib_Books\n",
        "class Lib_books():\n",
        "  # Defining the constructor having a self (Reserved) parameter, and a book availability\n",
        "  def __init__(self, name, author, availaibility):\n",
        "    self.book_name = name\n",
        "    self.book_author = author\n",
        "    self.book_availabe = availaibility\n",
        "\n",
        "\n",
        "# Outside the class, defining an object for class because class itself is nothing but a blueprint or the path to reach out to the destination.\n",
        "# Calling the class just like call the function and defining its positional arguments similarly used in the function\n",
        "Library_name = input(\"Enter the Library Name : \")\n",
        "Library_location = input(\"Enter the Library Location : \")\n",
        "my_library = Library(Library_name, Library_location)\n",
        "\n",
        "book1 = Lib_books(\"The Legend\", \"Pak Army\", True)\n",
        "book2 = Lib_books(\"The Cowards\", \"India\", True)\n",
        "\n",
        "\n",
        "# Displaying the library Object in which class stored\n",
        "print(\"Library Name : \", my_library.lib_name)\n",
        "print(\"Library Location : \", my_library.lib_location)\n",
        "\n",
        "# Displaying the books data:\n",
        "print(\"Books Name : \", book1.book_name)\n",
        "print(\"Books Author : \", book1.book_author)\n",
        "print(\"Books Availaibility : \", book1.book_availabe)\n",
        "\n",
        "# Adding new book to books collection:\n",
        "print(my_library.add_book(book1.book_name))\n",
        "print(my_library.add_book(book2.book_name))\n",
        "\n",
        "# To print the list of the books, print the get_books function:\n",
        "print(\"After Adding a book :\",my_library.get_book())\n",
        "\n",
        "# Removing exisiting book from books collection:\n",
        "print(my_library.remove_book(book2.book_name))\n",
        "\n",
        "# To print the list of the books, print the get_books function:\n",
        "print(\"After Removing a book :\", my_library.get_book())"
      ],
      "metadata": {
        "colab": {
          "base_uri": "https://localhost:8080/"
        },
        "id": "4xhudiiX7EWy",
        "outputId": "d72ddca3-13f2-4136-d342-ed0ff7cdfcd4"
      },
      "execution_count": 28,
      "outputs": [
        {
          "output_type": "stream",
          "name": "stdout",
          "text": [
            "Enter the Library Name : My Library\n",
            "Enter the Library Location : Karachi\n",
            "Library Name :  My Library\n",
            "Library Location :  Karachi\n",
            "Books Name :  The Legend\n",
            "Books Author :  Pak Army\n",
            "Books Availaibility :  True\n",
            "None\n",
            "None\n",
            "After Adding a book : ['The Legend', 'The Cowards']\n",
            "None\n",
            "After Removing a book : ['The Legend']\n"
          ]
        }
      ]
    },
    {
      "cell_type": "code",
      "source": [
        "# Defining Class & creating complete Library System: Real-World 3rd Method (Using Parameters and Arguments).\n",
        "#This is a class name Library.\n",
        "class Library():\n",
        "  # This is a constructor __init__\n",
        "  # The first parameter of the constructor is self(anything), which represents class, other parameters are following of it.\n",
        "  def __init__(self, name, location):\n",
        "    # Declaration of the class variable and assigning class parameter to it:\n",
        "    self.books_collection = []\n",
        "    self.lib_name = name\n",
        "    self.lib_location = location\n",
        "\n",
        "  # Now we have to add some functionality for the book (for e.g., add/remove book from library)\n",
        "  # To add new book we use append function\n",
        "  def add_book(self, new_book):\n",
        "    return self.books_collection.append(new_book)\n",
        "\n",
        "  # To remove the existing book we use remove function\n",
        "  def remove_book(self, existing_book):\n",
        "    if existing_book in self.books_collection:\n",
        "        self.books_collection.remove(existing_book)\n",
        "        print(f\"'{existing_book}' removed successfully.\")\n",
        "    else:\n",
        "        print(f\"'{existing_book}' not found in the library.\")\n",
        "\n",
        "  # Creating a method to get the list of the books:\n",
        "  def get_book(self):\n",
        "    return self.books_collection\n",
        "\n",
        "\n",
        "# As Library stores books in it, so creating another class named with Lib_Books\n",
        "class Lib_books():\n",
        "  # Defining the constructor having a self (Reserved) parameter, and a book availability\n",
        "  def __init__(self, name):\n",
        "    self.book_name = name\n",
        "\n",
        "# Outside the class, defining an object for class because class itself is nothing but a blueprint or the path to reach out to the destination.\n",
        "# Calling the class just like call the function and defining its positional arguments similarly used in the function\n",
        "Library_name = input(\"Enter the Library Name : \")\n",
        "Library_location = input(\"Enter the Library Location : \")\n",
        "my_library = Library(Library_name, Library_location)\n",
        "\n",
        "option = input(\"Enter the option name you want (add_book or remove_book) : \")\n",
        "while option:\n",
        "\n",
        "  if option == \"add_book\":\n",
        "    book = input(\"Enter a name of a book to add (or press enter to exit) : \")\n",
        "    if not book:\n",
        "      break\n",
        "    add_collection = Lib_books(book)\n",
        "    my_library.add_book(add_collection.book_name)\n",
        "  elif option == \"remove_book\":\n",
        "    book = input(\"Enter a name of a book to remove (or press enter to exit) :\")\n",
        "    if not book:\n",
        "      break\n",
        "    remove_collection = Lib_books(book)\n",
        "    my_library.remove_book(remove_collection.book_name)\n",
        "\n",
        "\n",
        "# Displaying the library Object in which class stored\n",
        "print(\"Library Name : \", my_library.lib_name)\n",
        "print(\"Library Location : \", my_library.lib_location)\n",
        "\n",
        "# To print the list of the books, print the get_books function:\n",
        "print(\"Books Collection : \",my_library.get_book())\n"
      ],
      "metadata": {
        "colab": {
          "base_uri": "https://localhost:8080/"
        },
        "id": "VVCEPJMejyk6",
        "outputId": "97473bb3-1cad-4905-aed4-48a6f8a77891"
      },
      "execution_count": 37,
      "outputs": [
        {
          "output_type": "stream",
          "name": "stdout",
          "text": [
            "Enter the Library Name : My Library\n",
            "Enter the Library Location : Karachi\n",
            "Enter the option name you want (add_book or remove_book) : add_book\n",
            "Enter a name of a book to add (or press enter to exit) : The Legend\n",
            "Enter a name of a book to add (or press enter to exit) : The Coward\n",
            "Enter a name of a book to add (or press enter to exit) : \n",
            "Library Name :  My Library\n",
            "Library Location :  Karachi\n",
            "Books Collection :  ['The Legend', 'The Coward']\n"
          ]
        }
      ]
    }
  ]
}