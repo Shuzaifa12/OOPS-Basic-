{
  "nbformat": 4,
  "nbformat_minor": 0,
  "metadata": {
    "colab": {
      "provenance": [],
      "authorship_tag": "ABX9TyMg3Ivre8+IScdWFsuVJuN4",
      "include_colab_link": true
    },
    "kernelspec": {
      "name": "python3",
      "display_name": "Python 3"
    },
    "language_info": {
      "name": "python"
    }
  },
  "cells": [
    {
      "cell_type": "markdown",
      "metadata": {
        "id": "view-in-github",
        "colab_type": "text"
      },
      "source": [
        "<a href=\"https://colab.research.google.com/github/Shuzaifa12/OOPS-Basic-/blob/main/Hospital_Management_System.ipynb\" target=\"_parent\"><img src=\"https://colab.research.google.com/assets/colab-badge.svg\" alt=\"Open In Colab\"/></a>"
      ]
    },
    {
      "cell_type": "markdown",
      "source": [
        "**HOSPITAL APPLICATION USING OOPS**"
      ],
      "metadata": {
        "id": "8FwSvinAVLhX"
      }
    },
    {
      "cell_type": "code",
      "execution_count": 1,
      "metadata": {
        "colab": {
          "base_uri": "https://localhost:8080/"
        },
        "id": "2WmyvzX2VFD-",
        "outputId": "ad2587b3-e273-44b5-e8a1-517b32ea84de"
      },
      "outputs": [
        {
          "output_type": "stream",
          "name": "stdout",
          "text": [
            "Hospital Name :  Children's Hospital\n",
            "Hospital Location :  Karachi, Pakistan\n",
            "Write what you want to do ('Add_Doctor', 'Remove_Doctor', 'Add_Patient', 'Remove_Patient') :Add_Doctor\n",
            "Enter Doctor name or (press enter to exit) : ABC\n",
            "Enter Doctor name or (press enter to exit) : \n",
            "Available Doctors:  ['ABC']\n",
            "Available Patients:  []\n"
          ]
        }
      ],
      "source": [
        "# To create a hospital application we need a class of Hospital first and have parameters of its location and name in constructor:\n",
        "\n",
        "# Class with a name Hospital\n",
        "class Hospital():\n",
        "  # constructor\n",
        "  def __init__(self, name, address):  #self is the reserved word representing class\n",
        "    self.Doctorlist = []\n",
        "    self.Patientlist = []\n",
        "    self.Hosp_name = name             #Hosp_name is a class varibale\n",
        "    self.Hosp_address = address       #Hosp_address is a class varibale\n",
        "\n",
        "\n",
        "  # To add doctors in the hospital, create a class method name with Add_Doctors inside hospital class\n",
        "  def Add_Doctors(self, new_Doctor):\n",
        "    return self.Doctorlist.append(new_Doctor)\n",
        "\n",
        "  # To remove doctors from the hospital, create a class method named with remove doctors\n",
        "  def Remove_Doctors(self, existing_Doctor):\n",
        "    if existing_Doctor in self.Doctorlist:\n",
        "      self.Docterlist.remove(existing_Doctor)\n",
        "      print(\"The Doctor is successfully removed\")\n",
        "    else:\n",
        "      print(\"Cannot find the Doctor with the provided name\")\n",
        "\n",
        "  # To add pateints in the hospital. created a class method name with Add_Pateints inside the hospital class\n",
        "  def Add_Patient(self, new_Patient):\n",
        "    return self.Patientlist.append(new_Patient)\n",
        "\n",
        "  # To remove patients from the hospital, create a class method name with remove Patient\n",
        "  def Remove_Patient(self, existing_Patient):\n",
        "    if existing_Patient in self.Patientlist:\n",
        "      self.Patientlist.remove(existing_Patient)\n",
        "      print(\"The patient is successfully removed\")\n",
        "    else:\n",
        "      print(\"Cannot find the patient with the provided name\")\n",
        "\n",
        "\n",
        "  # To get the list of doctors we create a method name with get doctors\n",
        "  def get_Doctors(self):\n",
        "    return self.Doctorlist\n",
        "\n",
        "  # To get the list of patients create a method name with get pateints\n",
        "  def get_Patients(self):\n",
        "    return self.Patientlist\n",
        "\n",
        "# Creating an object for a class\n",
        "my_Hospital = Hospital(\"Children's Hospital\", \"Karachi, Pakistan\")\n",
        "\n",
        "# Displaying the data of the Hospital\n",
        "print(\"Hospital Name : \",my_Hospital.Hosp_name)\n",
        "print(\"Hospital Location : \",my_Hospital.Hosp_address)\n",
        "\n",
        "\n",
        "# In Hospital Doctors are must, so we create a class named with doctor\n",
        "class Doctors():\n",
        "  # constructor\n",
        "  def __init__(self, Dr_name):\n",
        "    self.Dr_name = Dr_name\n",
        "\n",
        "# In Hospital Patients are also must so created a class name with Patients\n",
        "class Patients():\n",
        "  # Constructor\n",
        "  def __init__(self, patients):\n",
        "    self.patients = patients\n",
        "\n",
        "option = input(\"Write what you want to do ('Add_Doctor', 'Remove_Doctor', 'Add_Patient', 'Remove_Patient') :\")\n",
        "\n",
        "while option:\n",
        "  if option == \"Add_Doctor\":\n",
        "    input_Doctor_name = input(\"Enter Doctor name or (press enter to exit) : \")\n",
        "    if not input_Doctor_name:\n",
        "      break\n",
        "    newdoct = Doctors(input_Doctor_name)\n",
        "    my_Hospital.Add_Doctors(newdoct.Dr_name)\n",
        "\n",
        "  elif option == \"Remove_Doctor\":\n",
        "    input_Doctor_name = input(\"Enter Doctor name to remove or (press enter to exit) :\")\n",
        "    if not input_Doctor_name:\n",
        "      break\n",
        "    removedoctor = Doctors(input_Doctor_name)\n",
        "    my_Hospital.Remove_Doctors(removedoctor.Dr_name)\n",
        "\n",
        "  elif option == \"Add_Patient\":\n",
        "    input_Patient_name = input(\"Enter Pateint Name or (press enter to exit) :\")\n",
        "    if not input_Patient_name:\n",
        "      break\n",
        "    newPatient = Patients(input_Patient_name)\n",
        "    my_Hospital.Add_Patient(newPatient.patients)\n",
        "\n",
        "  elif option == \"Remove_Patient\":\n",
        "    input_Patient_name = input(\"Enter Patient Name or (press enter to exit) :\")\n",
        "    if not input_Patient_name:\n",
        "      break\n",
        "    removepatient = Patients(input_Patient_name)\n",
        "    my_Hospital.Remove_Patient(removepatient.patients)\n",
        "\n",
        "  else:\n",
        "    print(\"Please Write the correct option !\")\n",
        "\n",
        "\n",
        "# Printing the list of the doctors\n",
        "print(\"Available Doctors: \",my_Hospital.get_Doctors())\n",
        "# Printing the list of the patients\n",
        "print(\"Available Patients: \",my_Hospital.get_Patients())\n"
      ]
    }
  ]
}